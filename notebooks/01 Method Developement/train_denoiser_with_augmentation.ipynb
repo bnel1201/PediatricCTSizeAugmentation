{
 "cells": [
  {
   "cell_type": "code",
   "execution_count": 1,
   "metadata": {
    "tags": []
   },
   "outputs": [],
   "source": [
    "import os\n",
    "import sys\n",
    "sys.path.append('../../denoising')\n",
    "from torch.backends import cudnn\n",
    "from loader import get_loader\n",
    "from solver import Solver\n",
    "from networks import RED_CNN\n",
    "from subprocess import run\n",
    "import torch\n",
    "import numpy as np"
   ]
  },
  {
   "cell_type": "markdown",
   "metadata": {
    "tags": []
   },
   "source": [
    "from shutil import rmtree\n",
    "rmtree('models')\n",
    "\n",
    "for lmbda in range(11):\n",
    "    lmbda/=10\n",
    "    run(['python', '../../denoising/main.py',\n",
    "         '--data_path' ,'/gpfs_projects/brandon.nelson/Mayo_LDGC/images',\n",
    "         '--saved_path', '/gpfs_projects/brandon.nelson/Mayo_LDGC/numpy_files',\n",
    "         '--load_mode', '1',\n",
    "         '--save_path', f'models/lambda{int(lmbda*100):03d}',\n",
    "         '--augment', f'{lmbda}'])"
   ]
  },
  {
   "cell_type": "code",
   "execution_count": 2,
   "metadata": {
    "tags": []
   },
   "outputs": [],
   "source": [
    "from collections import OrderedDict\n",
    "\n",
    "def load_model(save_path, iter_=13000, multi_gpu=False):\n",
    "    REDCNN = RED_CNN()\n",
    "    f = os.path.join(save_path, 'REDCNN_{}iter.ckpt'.format(iter_))\n",
    "    if multi_gpu:\n",
    "        state_d = OrderedDict()\n",
    "        for k, v in torch.load(f):\n",
    "            n = k[7:]\n",
    "            state_d[n] = v\n",
    "        REDCNN.load_state_dict(state_d)\n",
    "        return REDCNN\n",
    "    else:\n",
    "        REDCNN.load_state_dict(torch.load(f))\n",
    "        return REDCNN"
   ]
  },
  {
   "cell_type": "code",
   "execution_count": 3,
   "metadata": {
    "tags": []
   },
   "outputs": [
    {
     "name": "stdout",
     "output_type": "stream",
     "text": [
      "models/lambda000\n",
      "models/lambda010\n",
      "models/lambda020\n",
      "models/lambda030\n",
      "models/lambda040\n",
      "models/lambda050\n",
      "models/lambda060\n",
      "models/lambda070\n",
      "models/lambda080\n",
      "models/lambda090\n",
      "models/lambda100\n"
     ]
    }
   ],
   "source": [
    "from pathlib import Path\n",
    "for lmbda in range(11):\n",
    "    lmbda/=10\n",
    "    model_path = Path(f'models/lambda{int(lmbda*100):03d}')\n",
    "    model = load_model(model_path)\n",
    "    print(model_path)"
   ]
  },
  {
   "cell_type": "code",
   "execution_count": 4,
   "metadata": {
    "tags": []
   },
   "outputs": [
    {
     "data": {
      "text/html": [
       "<div>\n",
       "<style scoped>\n",
       "    .dataframe tbody tr th:only-of-type {\n",
       "        vertical-align: middle;\n",
       "    }\n",
       "\n",
       "    .dataframe tbody tr th {\n",
       "        vertical-align: top;\n",
       "    }\n",
       "\n",
       "    .dataframe thead th {\n",
       "        text-align: right;\n",
       "    }\n",
       "</style>\n",
       "<table border=\"1\" class=\"dataframe\">\n",
       "  <thead>\n",
       "    <tr style=\"text-align: right;\">\n",
       "      <th></th>\n",
       "      <th>Code #</th>\n",
       "      <th>Name</th>\n",
       "      <th>age [year]</th>\n",
       "      <th>gender</th>\n",
       "      <th>weight [kg]</th>\n",
       "      <th>height [cm]</th>\n",
       "      <th>BMI</th>\n",
       "      <th>weight percentile</th>\n",
       "      <th>ethnicity</th>\n",
       "      <th>effective diameter [cm]</th>\n",
       "      <th>Dose [%]</th>\n",
       "      <th>recon</th>\n",
       "      <th>phantom</th>\n",
       "      <th>file</th>\n",
       "      <th>simulated</th>\n",
       "      <th>FOV [cm]</th>\n",
       "      <th>kernel</th>\n",
       "      <th>scanner</th>\n",
       "    </tr>\n",
       "  </thead>\n",
       "  <tbody>\n",
       "    <tr>\n",
       "      <th>2</th>\n",
       "      <td>Reference newborn</td>\n",
       "      <td>male infant</td>\n",
       "      <td>0.166</td>\n",
       "      <td>M</td>\n",
       "      <td>3.8</td>\n",
       "      <td>52.0</td>\n",
       "      <td>14.1</td>\n",
       "      <td>36.0</td>\n",
       "      <td>NaN</td>\n",
       "      <td>11.1</td>\n",
       "      <td>10</td>\n",
       "      <td>fbp</td>\n",
       "      <td>anthropomorphic</td>\n",
       "      <td>/gpfs_projects/brandon.nelson/PediatricCTSizeD...</td>\n",
       "      <td>True</td>\n",
       "      <td>14.43</td>\n",
       "      <td>NaN</td>\n",
       "      <td>NaN</td>\n",
       "    </tr>\n",
       "    <tr>\n",
       "      <th>5</th>\n",
       "      <td>Reference newborn</td>\n",
       "      <td>male infant</td>\n",
       "      <td>0.166</td>\n",
       "      <td>M</td>\n",
       "      <td>3.8</td>\n",
       "      <td>52.0</td>\n",
       "      <td>14.1</td>\n",
       "      <td>36.0</td>\n",
       "      <td>NaN</td>\n",
       "      <td>11.1</td>\n",
       "      <td>40</td>\n",
       "      <td>fbp</td>\n",
       "      <td>anthropomorphic</td>\n",
       "      <td>/gpfs_projects/brandon.nelson/PediatricCTSizeD...</td>\n",
       "      <td>True</td>\n",
       "      <td>14.43</td>\n",
       "      <td>NaN</td>\n",
       "      <td>NaN</td>\n",
       "    </tr>\n",
       "    <tr>\n",
       "      <th>8</th>\n",
       "      <td>Reference newborn</td>\n",
       "      <td>male infant</td>\n",
       "      <td>0.166</td>\n",
       "      <td>M</td>\n",
       "      <td>3.8</td>\n",
       "      <td>52.0</td>\n",
       "      <td>14.1</td>\n",
       "      <td>36.0</td>\n",
       "      <td>NaN</td>\n",
       "      <td>11.1</td>\n",
       "      <td>25</td>\n",
       "      <td>fbp</td>\n",
       "      <td>anthropomorphic</td>\n",
       "      <td>/gpfs_projects/brandon.nelson/PediatricCTSizeD...</td>\n",
       "      <td>True</td>\n",
       "      <td>14.43</td>\n",
       "      <td>NaN</td>\n",
       "      <td>NaN</td>\n",
       "    </tr>\n",
       "    <tr>\n",
       "      <th>11</th>\n",
       "      <td>Reference newborn</td>\n",
       "      <td>male infant</td>\n",
       "      <td>0.166</td>\n",
       "      <td>M</td>\n",
       "      <td>3.8</td>\n",
       "      <td>52.0</td>\n",
       "      <td>14.1</td>\n",
       "      <td>36.0</td>\n",
       "      <td>NaN</td>\n",
       "      <td>11.1</td>\n",
       "      <td>55</td>\n",
       "      <td>fbp</td>\n",
       "      <td>anthropomorphic</td>\n",
       "      <td>/gpfs_projects/brandon.nelson/PediatricCTSizeD...</td>\n",
       "      <td>True</td>\n",
       "      <td>14.43</td>\n",
       "      <td>NaN</td>\n",
       "      <td>NaN</td>\n",
       "    </tr>\n",
       "    <tr>\n",
       "      <th>14</th>\n",
       "      <td>Reference newborn</td>\n",
       "      <td>male infant</td>\n",
       "      <td>0.166</td>\n",
       "      <td>M</td>\n",
       "      <td>3.8</td>\n",
       "      <td>52.0</td>\n",
       "      <td>14.1</td>\n",
       "      <td>36.0</td>\n",
       "      <td>NaN</td>\n",
       "      <td>11.1</td>\n",
       "      <td>100</td>\n",
       "      <td>fbp</td>\n",
       "      <td>anthropomorphic</td>\n",
       "      <td>/gpfs_projects/brandon.nelson/PediatricCTSizeD...</td>\n",
       "      <td>True</td>\n",
       "      <td>14.43</td>\n",
       "      <td>NaN</td>\n",
       "      <td>NaN</td>\n",
       "    </tr>\n",
       "  </tbody>\n",
       "</table>\n",
       "</div>"
      ],
      "text/plain": [
       "               Code #         Name  age [year] gender  weight [kg]  \\\n",
       "2   Reference newborn  male infant       0.166      M          3.8   \n",
       "5   Reference newborn  male infant       0.166      M          3.8   \n",
       "8   Reference newborn  male infant       0.166      M          3.8   \n",
       "11  Reference newborn  male infant       0.166      M          3.8   \n",
       "14  Reference newborn  male infant       0.166      M          3.8   \n",
       "\n",
       "    height [cm]   BMI  weight percentile ethnicity  effective diameter [cm]  \\\n",
       "2          52.0  14.1               36.0       NaN                     11.1   \n",
       "5          52.0  14.1               36.0       NaN                     11.1   \n",
       "8          52.0  14.1               36.0       NaN                     11.1   \n",
       "11         52.0  14.1               36.0       NaN                     11.1   \n",
       "14         52.0  14.1               36.0       NaN                     11.1   \n",
       "\n",
       "    Dose [%] recon          phantom  \\\n",
       "2         10   fbp  anthropomorphic   \n",
       "5         40   fbp  anthropomorphic   \n",
       "8         25   fbp  anthropomorphic   \n",
       "11        55   fbp  anthropomorphic   \n",
       "14       100   fbp  anthropomorphic   \n",
       "\n",
       "                                                 file  simulated  FOV [cm]  \\\n",
       "2   /gpfs_projects/brandon.nelson/PediatricCTSizeD...       True     14.43   \n",
       "5   /gpfs_projects/brandon.nelson/PediatricCTSizeD...       True     14.43   \n",
       "8   /gpfs_projects/brandon.nelson/PediatricCTSizeD...       True     14.43   \n",
       "11  /gpfs_projects/brandon.nelson/PediatricCTSizeD...       True     14.43   \n",
       "14  /gpfs_projects/brandon.nelson/PediatricCTSizeD...       True     14.43   \n",
       "\n",
       "   kernel scanner  \n",
       "2     NaN     NaN  \n",
       "5     NaN     NaN  \n",
       "8     NaN     NaN  \n",
       "11    NaN     NaN  \n",
       "14    NaN     NaN  "
      ]
     },
     "execution_count": 4,
     "metadata": {},
     "output_type": "execute_result"
    }
   ],
   "source": [
    "from pathlib import Path\n",
    "\n",
    "import matplotlib.pyplot as plt\n",
    "import seaborn as sns\n",
    "import numpy as np\n",
    "import pandas as pd\n",
    "import SimpleITK as sitk\n",
    "\n",
    "base_dir = Path('/gpfs_projects/brandon.nelson/PediatricCTSizeDataAugmentation')\n",
    "meta = pd.read_csv(base_dir / 'metadata.csv')\n",
    "meta = meta[meta.recon == 'fbp']\n",
    "meta.head()"
   ]
  },
  {
   "cell_type": "code",
   "execution_count": 5,
   "metadata": {
    "tags": []
   },
   "outputs": [
    {
     "data": {
      "text/plain": [
       "array(['anthropomorphic', 'MITA-LCD', 'uniform', 'ACR464', 'CTP404'],\n",
       "      dtype=object)"
      ]
     },
     "execution_count": 5,
     "metadata": {},
     "output_type": "execute_result"
    }
   ],
   "source": [
    "meta.phantom.unique()"
   ]
  },
  {
   "cell_type": "code",
   "execution_count": 6,
   "metadata": {
    "tags": []
   },
   "outputs": [
    {
     "data": {
      "text/plain": [
       "array([ True, False])"
      ]
     },
     "execution_count": 6,
     "metadata": {},
     "output_type": "execute_result"
    }
   ],
   "source": [
    "meta.simulated.unique()"
   ]
  },
  {
   "cell_type": "code",
   "execution_count": 7,
   "metadata": {
    "tags": []
   },
   "outputs": [],
   "source": [
    "import sys\n",
    "sys.path.append('..')\n",
    "\n",
    "from utils import circle_select, get_circle_diameter, load_mhd, ctshow"
   ]
  },
  {
   "cell_type": "code",
   "execution_count": 8,
   "metadata": {},
   "outputs": [],
   "source": [
    "fname = meta[(meta['Dose [%]'] == 25) &\n",
    "             (meta.phantom == 'uniform') &\n",
    "             (meta['effective diameter [cm]'] == 21.6)].file.item() #try different phantom sizes and compare if lambda value changes"
   ]
  },
  {
   "cell_type": "code",
   "execution_count": 9,
   "metadata": {
    "tags": []
   },
   "outputs": [
    {
     "data": {
      "text/plain": [
       "(200, 512, 512)"
      ]
     },
     "execution_count": 9,
     "metadata": {},
     "output_type": "execute_result"
    }
   ],
   "source": [
    "img = sitk.ReadImage(fname)\n",
    "vol = sitk.GetArrayFromImage(img)\n",
    "vol.shape"
   ]
  },
  {
   "cell_type": "code",
   "execution_count": 10,
   "metadata": {
    "tags": []
   },
   "outputs": [],
   "source": [
    "%matplotlib inline\n"
   ]
  },
  {
   "cell_type": "code",
   "execution_count": 11,
   "metadata": {
    "tags": []
   },
   "outputs": [
    {
     "data": {
      "text/plain": [
       "232.42625138671843"
      ]
     },
     "execution_count": 11,
     "metadata": {},
     "output_type": "execute_result"
    }
   ],
   "source": [
    "r = get_circle_diameter(vol[0])/2\n",
    "r"
   ]
  },
  {
   "cell_type": "code",
   "execution_count": 12,
   "metadata": {
    "tags": []
   },
   "outputs": [
    {
     "data": {
      "image/png": "[encoded data removed]",
      "text/plain": [
       "<Figure size 640x480 with 1 Axes>"
      ]
     },
     "metadata": {},
     "output_type": "display_data"
    }
   ],
   "source": [
    "roi = circle_select(vol[0], (vol[0].shape[0]//2, vol[0].shape[1]//2), r/3)\n",
    "plt.imshow(vol[0], cmap='gray')\n",
    "plt.imshow(roi, cmap='Reds', alpha=0.2)\n",
    "plt.title(f'std: {vol[0][roi].std():2.2f}')\n",
    "plt.show()"
   ]
  },
  {
   "cell_type": "code",
   "execution_count": 13,
   "metadata": {
    "tags": []
   },
   "outputs": [
    {
     "name": "stderr",
     "output_type": "stream",
     "text": [
      "100%|███████████████████████████████████████████████████████████████████████████████████| 20/20 [00:25<00:00,  1.25s/it]\n"
     ]
    }
   ],
   "source": [
    "denoised = model.predict(vol[:20])"
   ]
  },
  {
   "cell_type": "code",
   "execution_count": 14,
   "metadata": {
    "tags": []
   },
   "outputs": [
    {
     "data": {
      "text/plain": [
       "28.95023"
      ]
     },
     "execution_count": 14,
     "metadata": {},
     "output_type": "execute_result"
    }
   ],
   "source": [
    "denoised[:,roi].std(axis=1).mean()"
   ]
  },
  {
   "cell_type": "code",
   "execution_count": 15,
   "metadata": {
    "tags": []
   },
   "outputs": [
    {
     "ename": "NameError",
     "evalue": "name 'device' is not defined",
     "output_type": "error",
     "traceback": [
      "\u001b[0;31m---------------------------------------------------------------------------\u001b[0m",
      "\u001b[0;31mNameError\u001b[0m                                 Traceback (most recent call last)",
      "Cell \u001b[0;32mIn[15], line 1\u001b[0m\n\u001b[0;32m----> 1\u001b[0m redcnn \u001b[38;5;241m=\u001b[39m load_model(\u001b[38;5;124mf\u001b[39m\u001b[38;5;124m'\u001b[39m\u001b[38;5;124mmodels/lambda\u001b[39m\u001b[38;5;132;01m{\u001b[39;00m\u001b[38;5;28mint\u001b[39m(\u001b[38;5;241m0\u001b[39m)\u001b[38;5;132;01m:\u001b[39;00m\u001b[38;5;124m03d\u001b[39m\u001b[38;5;132;01m}\u001b[39;00m\u001b[38;5;124m'\u001b[39m)\u001b[38;5;241m.\u001b[39mto(\u001b[43mdevice\u001b[49m)\n",
      "\u001b[0;31mNameError\u001b[0m: name 'device' is not defined"
     ]
    }
   ],
   "source": [
    "redcnn = load_model(f'models/lambda{int(0):03d}').to(device)"
   ]
  },
  {
   "cell_type": "code",
   "execution_count": null,
   "metadata": {
    "tags": []
   },
   "outputs": [],
   "source": [
    "phantom = 'uniform'\n",
    "doses = []\n",
    "stds = []\n",
    "means = []\n",
    "imgs = []\n",
    "diams = []\n",
    "fovs=[]\n",
    "lambdas = []\n",
    "recons = []\n",
    "img_dict = {}\n",
    "\n",
    "device='cuda'\n",
    "redcnn = load_model(f'models/lambda{int(0):03d}').to(device)\n",
    "for recon in ['fbp', 'RED-CNN', 'RED-CNN augmented']:\n",
    "    for dose in [25, 100]:\n",
    "        for diam in meta[meta.phantom==phantom]['effective diameter [cm]'].unique():\n",
    "            rd_vol = load_mhd(meta[(meta['Dose [%]'] == dose) &\n",
    "                         (meta.phantom == phantom) &\n",
    "                         (meta['effective diameter [cm]'] == diam)].file.item()) #try different phantom sizes and compare if lambda value changes\n",
    "            fov=meta[(meta['Dose [%]'] == dose) &\n",
    "                         (meta.phantom == phantom) &\n",
    "                         (meta['effective diameter [cm]'] == diam)]['FOV [cm]'].item()\n",
    "            lambda_dict = {}\n",
    "            for lmbda in range(11):\n",
    "                lmbda/=10\n",
    "                if recon == 'RED-CNN':\n",
    "                    model_path = Path(f'models/lambda{int(0):03d}')\n",
    "                else:\n",
    "                    model_path = Path(f'models/lambda{int(lmbda*100):03d}')\n",
    "                if (recon == 'fbp'):\n",
    "                    denoised = rd_vol\n",
    "                else:\n",
    "                    model = load_model(model_path).to(device)\n",
    "                    denoised = model.predict(ld_vol, device=device).squeeze()\n",
    "                roi = circle_select(rd_vol[0], (rd_vol[0].shape[0]//2, rd_vol[0].shape[1]//2), r/3)\n",
    "                ctshow(denoised[0])\n",
    "                plt.imshow(roi, cmap='Reds', alpha=0.05)\n",
    "                std = denoised[:, roi].std(axis=1).mean()\n",
    "                mean = denoised[:, roi].std(axis=1).mean()\n",
    "                plt.title(f'{recon} {dose}% dose\\ndiam: {diam} cm, $\\lambda$: {lmbda} std: {std:2.2f}')\n",
    "                plt.show()\n",
    "                doses.append(dose)\n",
    "                stds.append(std)\n",
    "                means.append(mean)\n",
    "                diams.append(diam)\n",
    "                lambdas.append(lmbda)\n",
    "                fovs.append(fov)\n",
    "                recons.append(recon)\n",
    "                lambda_dict[lmbda] = denoised[0]\n",
    "            img_dict[diam] = lambda_dict"
   ]
  },
  {
   "cell_type": "code",
   "execution_count": null,
   "metadata": {
    "tags": []
   },
   "outputs": [],
   "source": [
    "df = pd.DataFrame({'effective diameter [cm]':diams,\n",
    "                   'FOV [cm]':fovs,\n",
    "                   'Dose [%]': doses,\n",
    "                   'recon': recons,\n",
    "                   'lambda': lambdas,\n",
    "                   'mean [HU]': means,\n",
    "                   'std [HU]': stds})\n",
    "df"
   ]
  },
  {
   "cell_type": "markdown",
   "metadata": {},
   "source": [
    "Add hi dose and low dose values..."
   ]
  },
  {
   "cell_type": "code",
   "execution_count": null,
   "metadata": {
    "tags": []
   },
   "outputs": [],
   "source": [
    "df['effective diameter [cm]'].unique()"
   ]
  },
  {
   "cell_type": "code",
   "execution_count": null,
   "metadata": {
    "tags": []
   },
   "outputs": [],
   "source": [
    "f, ax = plt.subplots()\n",
    "for diam in sorted(df['effective diameter [cm]'].unique()):\n",
    "    df[(df.recon!='fbp')&(df['Dose [%]']==25)&(df.recon=='RED-CNN augmented')&(df['effective diameter [cm]']==diam)].plot(x='lambda', y='std [HU]', label=diam,ax=ax)\n",
    "plt.show()"
   ]
  },
  {
   "cell_type": "code",
   "execution_count": null,
   "metadata": {
    "tags": []
   },
   "outputs": [],
   "source": [
    "df.columns"
   ]
  },
  {
   "cell_type": "code",
   "execution_count": null,
   "metadata": {
    "tags": []
   },
   "outputs": [],
   "source": [
    "sorted(df['FOV [cm]'].unique())"
   ]
  },
  {
   "cell_type": "code",
   "execution_count": null,
   "metadata": {
    "tags": []
   },
   "outputs": [],
   "source": [
    "means = df.groupby(['recon', 'Dose [%]', 'lambda']).mean()\n",
    "means"
   ]
  },
  {
   "cell_type": "code",
   "execution_count": null,
   "metadata": {
    "tags": []
   },
   "outputs": [],
   "source": [
    "f, ax = plt.subplots(figsize=(3.5, 3), dpi=150)\n",
    "means['std [HU]']['fbp', 25].plot(ax=ax, label='fbp low dose')\n",
    "means['std [HU]']['fbp', 100].plot(ax=ax, label='fbp hi dose')\n",
    "means['std [HU]']['RED-CNN', 25].plot(ax=ax, label='RED-CNN')\n",
    "means['std [HU]']['RED-CNN augmented', 25].plot(ax=ax, label='RED-CNN augmented')\n",
    "ax.set_xlabel('$\\lambda$')\n",
    "ax.set_ylabel('std [HU]')\n",
    "plt.legend()"
   ]
  },
  {
   "cell_type": "code",
   "execution_count": null,
   "metadata": {
    "tags": []
   },
   "outputs": [],
   "source": [
    "df[(df.recon!='fbp')&(df['Dose [%]']==25)&(df.recon=='RED-CNN augmented')&(df['effective diameter [cm]']==13.1)].plot(x='lambda', y='std [HU]')"
   ]
  },
  {
   "cell_type": "code",
   "execution_count": null,
   "metadata": {
    "tags": []
   },
   "outputs": [],
   "source": [
    "sns.lineplot(data=df[(df.recon!='fbp')&(df['Dose [%]']==25)], x='lambda', y='std [HU]', hue='FOV [cm]', style='Dose [%]')"
   ]
  },
  {
   "cell_type": "code",
   "execution_count": null,
   "metadata": {
    "tags": []
   },
   "outputs": [],
   "source": [
    "f, ax = plt.subplots(dpi=300)\n",
    "ctshow(np.concatenate([vol[0], imgs[1], rd_vol[0]], axis=1))"
   ]
  },
  {
   "cell_type": "code",
   "execution_count": null,
   "metadata": {
    "tags": []
   },
   "outputs": [],
   "source": [
    "plt.plot(stds)"
   ]
  },
  {
   "cell_type": "code",
   "execution_count": null,
   "metadata": {},
   "outputs": [],
   "source": [
    "noise_patch_dir = Path('../noise_patches')\n",
    "diameters = [112, 131, 151, 185, 200, 216, 292, 350]\n",
    "# diameters = [151]\n",
    "# diameters = [112, 131]\n",
    "\n",
    "# noise_files = [noise_patch_dir / f'diameter{d}mm.npy' for d in diameters]\n",
    "# noise_patch_dict = {f.stem: np.load(f) for f in noise_files}\n",
    "# noise_patches = np.concatenate(list(noise_patch_dict.values()))\n",
    "# noise_patches = np.zeros_like(noise_patches)"
   ]
  },
  {
   "cell_type": "code",
   "execution_count": null,
   "metadata": {},
   "outputs": [],
   "source": [
    "def load_noise_patch_dict(diameters = [112, 131, 151, 185, 216, 292, 350]):\n",
    "    noise_files = [noise_patch_dir / f'diameter{d}mm.npy' for d in diameters]\n",
    "    return {f.stem: np.load(f) for f in noise_files}\n",
    "    \n",
    "def load_noise_patches(diameters=[112, 131, 151, 185, 216, 292, 350]):\n",
    "    noise_patch_dict = load_noise_patch_dict(diameters)\n",
    "    return np.concatenate(list(noise_patch_dict.values()))"
   ]
  },
  {
   "cell_type": "code",
   "execution_count": null,
   "metadata": {},
   "outputs": [],
   "source": [
    "import sys\n",
    "sys.path.append('..')\n",
    "from nps_utils import compute_nps"
   ]
  },
  {
   "cell_type": "code",
   "execution_count": null,
   "metadata": {},
   "outputs": [],
   "source": [
    "example_input = test_input[[3], ...]\n",
    "edge_buffer = 128\n",
    "progress_ims = []\n",
    "progress_val = []\n",
    "\n",
    "class SaveSampleImageCallback(keras.callbacks.Callback):\n",
    "    def __init__(self, progress_ims, progress_val):\n",
    "          super().__init__()\n",
    "          self.progress_ims = progress_ims\n",
    "          self.progress_val = progress_val\n",
    "    def on_epoch_begin(self, epoch, logs=None):\n",
    "            val_loss = self.model.evaluate(val_input, val_target)\n",
    "            example_output = self.model.predict(example_input)\n",
    "            example_img = example_output[0, edge_buffer:-edge_buffer,\n",
    "                                         edge_buffer:-edge_buffer, 0]\n",
    "            self.progress_ims.append(example_img)\n",
    "            self.progress_val.append(val_loss)"
   ]
  },
  {
   "cell_type": "code",
   "execution_count": null,
   "metadata": {},
   "outputs": [],
   "source": [
    "def denoising_size_dependence(model, noise_patch_dict, N=None):\n",
    "    N = N or len(noise_patch_dict['diameter112mm'])\n",
    "    return {name: 100*(model.predict(patch_set[:N,:,:,None]).std()-patch_set[:N,:,:,None].std())/patch_set[:N,:,:,None].std() for name, patch_set in noise_patch_dict.items()}\n",
    "noise_patch_dict = load_noise_patch_dict(diameters = [112, 131, 151, 185, 216, 292, 350])"
   ]
  },
  {
   "cell_type": "code",
   "execution_count": null,
   "metadata": {},
   "outputs": [],
   "source": [
    "noise_patch_dict.keys()"
   ]
  },
  {
   "cell_type": "code",
   "execution_count": null,
   "metadata": {},
   "outputs": [],
   "source": [
    "noise_patch_dict['diameter131mm'][:,:,:,None].shape"
   ]
  },
  {
   "cell_type": "code",
   "execution_count": null,
   "metadata": {},
   "outputs": [],
   "source": [
    "val_input = noise_patch_dict['diameter131mm'][:1000,:,:,None]\n",
    "val_target = np.zeros_like(val_input)\n",
    "val_input.shape, val_target.shape"
   ]
  },
  {
   "cell_type": "code",
   "execution_count": null,
   "metadata": {},
   "outputs": [],
   "source": [
    "import datetime\n",
    "from tensorflow.keras.metrics import RootMeanSquaredError\n",
    "from functools import partial\n",
    "\n",
    "rng = tf.random.Generator.from_seed(123, alg='philox')\n",
    "\n",
    "\n",
    "# This sets the number of iterations through the training data\n",
    "epochs = 15\n",
    "batch_size = 32\n",
    "learning_rate = 0.0001\n",
    "SHUFFLE_BUFFER_SIZE = 1000\n",
    "# optimizer = tf.keras.optimizers.Adam(learning_rate=learning_rate)\n",
    "optimizer = 'adam'\n",
    "\n",
    "train_dataset = tf.data.Dataset.from_tensor_slices((train_input, train_target))\n",
    "val_dataset = tf.data.Dataset.from_tensor_slices((val_input, val_target))\n",
    "test_dataset = tf.data.Dataset.from_tensor_slices((test_input, test_target))\n",
    "train_dataset = train_dataset.shuffle(SHUFFLE_BUFFER_SIZE).batch(batch_size)\n",
    "test_dataset = test_dataset.batch(batch_size)\n",
    "\n",
    "AUTOTUNE = tf.data.AUTOTUNE\n",
    "\n",
    "log_dir = \"logs/fit/\" + datetime.datetime.now().strftime(\"%Y%m%d-%H%M%S\")\n",
    "tensorboard_callback = tf.keras.callbacks.TensorBoard(log_dir=log_dir, histogram_freq=1)\n",
    "\n",
    "def train(augment_training=0.7, model=None, epochs=15, noise_textures=[112, 131, 151, 185, 216, 292]):\n",
    "    'providing `model` as an argument skips model building and compiling and allows fine-tuning with a pretrained model'\n",
    "  \n",
    "    noise_patches = load_noise_patches(diameters=noise_textures)\n",
    "    \n",
    "    def augment(image_label, seed, aug_thresh = 0.7, max_noise=1):\n",
    "      'aug_thresh = lambda the frequency of augmentation, 0 = None, 1 = All'\n",
    "      image, label = image_label\n",
    "      new_seed = tf.random.experimental.stateless_split(seed, num=1)[0, :]\n",
    "      noise_patch = noise_patches[np.random.choice(list(range(len(noise_patches))))][:,:,None]\n",
    "      noise_lambda = tf.random.uniform([1], minval=0, maxval=max_noise)[0]\n",
    "      add_noise = tf.random.uniform([1], minval=0, maxval=1) < aug_thresh #from 0.5\n",
    "\n",
    "      if add_noise:\n",
    "        image = label + noise_lambda*noise_patch\n",
    "      return image, label\n",
    "\n",
    "    def f(x, y):\n",
    "      seed = rng.make_seeds(2)[0]\n",
    "      image, label = augment((x, y), seed, aug_thresh = augment_training)\n",
    "      return image, label\n",
    "\n",
    "    train_ds = (\n",
    "      train_dataset\n",
    "      .map(f, num_parallel_calls=AUTOTUNE)\n",
    "      .prefetch(AUTOTUNE)\n",
    "    )\n",
    "\n",
    "    if model is None:\n",
    "        model = build_model()\n",
    "        model.compile(optimizer=optimizer, loss='mse', metrics=[RootMeanSquaredError()])\n",
    "    progress_ims = []\n",
    "    progress_val = []\n",
    "    callback = SaveSampleImageCallback(progress_ims, progress_val)\n",
    "    model.fit(train_ds, epochs = epochs, callbacks=[callback, tensorboard_callback], validation_data=val_dataset)\n",
    "\n",
    "    progress_ims = np.stack(progress_ims, axis=0)\n",
    "\n",
    "    print('Training phase complete.')\n",
    "    return model, np.stack(callback.progress_ims, axis=0), callback.progress_val"
   ]
  },
  {
   "cell_type": "code",
   "execution_count": null,
   "metadata": {},
   "outputs": [],
   "source": [
    "train_dataset = tf.data.Dataset.from_tensor_slices((train_input, train_target))\n",
    "val_dataset = tf.data.Dataset.from_tensor_slices((val_input, val_target))\n",
    "test_dataset = tf.data.Dataset.from_tensor_slices((test_input, test_target))\n",
    "train_dataset = train_dataset.shuffle(SHUFFLE_BUFFER_SIZE).batch(batch_size)\n",
    "test_dataset = test_dataset.batch(batch_size)\n",
    "\n",
    "base_denoising_model, base_progress_ims, base_progress_val = train(augment_training=0, epochs=15)"
   ]
  },
  {
   "cell_type": "code",
   "execution_count": null,
   "metadata": {},
   "outputs": [],
   "source": [
    "%tensorboard --logdir logs/fit"
   ]
  },
  {
   "cell_type": "code",
   "execution_count": null,
   "metadata": {},
   "outputs": [],
   "source": [
    "def check_progress_ims(progress_ims):\n",
    "    plt.figure(figsize=(12, 12))\n",
    "\n",
    "    plt.subplot(2, 2, 1)\n",
    "    plt.title('Before Optimization', fontsize=16)\n",
    "    ctshow(progress_ims[0, :, :], window='variable')\n",
    "\n",
    "    plt.subplot(2, 2, 2)\n",
    "    plt.title('Epoch %d/%d' %(1, epochs), fontsize=16)\n",
    "    ctshow(progress_ims[1, :, :], window='soft_tissue')\n",
    "\n",
    "    plt.subplot(2, 2, 3)\n",
    "    plt.title('Epoch %d/%d' %(5, epochs), fontsize=16)\n",
    "    ctshow(progress_ims[5, :, :], window='soft_tissue')\n",
    "\n",
    "    plt.subplot(2, 2, 4)\n",
    "    plt.title('Final Epoch', fontsize=16)\n",
    "    ctshow(progress_ims[-1, :, :], window='soft_tissue')"
   ]
  },
  {
   "cell_type": "code",
   "execution_count": null,
   "metadata": {},
   "outputs": [],
   "source": [
    "check_progress_ims(base_progress_ims)"
   ]
  },
  {
   "cell_type": "markdown",
   "metadata": {},
   "source": [
    "## Now with augmentation"
   ]
  },
  {
   "cell_type": "code",
   "execution_count": null,
   "metadata": {},
   "outputs": [],
   "source": [
    "train_dataset = tf.data.Dataset.from_tensor_slices((train_input, train_target))\n",
    "val_dataset = tf.data.Dataset.from_tensor_slices((val_input, val_target))\n",
    "test_dataset = tf.data.Dataset.from_tensor_slices((test_input, test_target))\n",
    "train_dataset = train_dataset.shuffle(SHUFFLE_BUFFER_SIZE).batch(batch_size)\n",
    "test_dataset = test_dataset.batch(batch_size)\n",
    "\n",
    "aug_denoising_model, aug_progress_ims, aug_progress_val = train(augment_training=0.65, epochs=25)"
   ]
  },
  {
   "cell_type": "code",
   "execution_count": null,
   "metadata": {},
   "outputs": [],
   "source": [
    "plt.plot(np.array(base_progress_val)[:, 1],label='cnn')\n",
    "plt.plot(np.array(aug_progress_val)[:, 1],label='aug')\n",
    "plt.show()"
   ]
  },
  {
   "cell_type": "code",
   "execution_count": null,
   "metadata": {},
   "outputs": [],
   "source": [
    "check_progress_ims(aug_progress_ims)"
   ]
  },
  {
   "cell_type": "code",
   "execution_count": null,
   "metadata": {},
   "outputs": [],
   "source": [
    "nexample = 2\n",
    "base_CNNout = base_denoising_model.predict(test_input, batch_size=1)\n",
    "aug_CNNout = aug_denoising_model.predict(test_input, batch_size=1)\n",
    "\n",
    "plt.figure(figsize=(16, 8))\n",
    "\n",
    "plt.subplot(1, 3, 1)\n",
    "plt.title('Low Dose Input', fontsize=16)\n",
    "ctshow(test_input[nexample, :, :, 0])\n",
    "\n",
    "\n",
    "plt.subplot(1, 3, 2)\n",
    "plt.title('base CNN Denoised Image', fontsize=16)\n",
    "ctshow(base_CNNout[nexample, :, :, 0])\n",
    "\n",
    "plt.subplot(1, 3, 3)\n",
    "plt.title('aug CNN Denoised Image', fontsize=16)\n",
    "ctshow(aug_CNNout[nexample, :, :, 0])\n",
    "\n",
    "# Same as above, but with a different field of view\n",
    "plt.figure(figsize=(16, 8))\n",
    "\n",
    "plt.subplot(1, 2, 1)\n",
    "plt.title('base CNN Denoised, MSE', fontsize=16)\n",
    "ctshow(base_CNNout[3, 110:-110, 50:-50, 0])\n",
    "\n",
    "plt.subplot(1, 2, 2)\n",
    "plt.title('aug CNN Denoised, MSE', fontsize=16)\n",
    "ctshow(aug_CNNout[3, 110:-110, 50:-50, 0])"
   ]
  },
  {
   "cell_type": "code",
   "execution_count": null,
   "metadata": {},
   "outputs": [],
   "source": [
    "plt.figure(figsize=(16, 8))\n",
    "\n",
    "plt.subplot(2, 2, 1)\n",
    "plt.title('Low Dose Input', fontsize=16)\n",
    "ctshow(test_input[3, 110:-110, 50:-50, 0])\n",
    "\n",
    "plt.subplot(2, 2, 2)\n",
    "plt.title('Hi Dose Input', fontsize=16)\n",
    "ctshow(test_target[3, 110:-110, 50:-50, 0])\n",
    "\n",
    "plt.subplot(2, 2, 3)\n",
    "plt.title('base CNN Denoised, MSE', fontsize=16)\n",
    "ctshow(base_CNNout[3, 110:-110, 50:-50, 0])\n",
    "\n",
    "plt.subplot(2, 2, 4)\n",
    "plt.title('aug CNN Denoised, MSE', fontsize=16)\n",
    "ctshow(aug_CNNout[3, 110:-110, 50:-50, 0])\n",
    "# plt.savefig(f'comp_{aug_thresh:0.1f}.png', dpi=150)"
   ]
  },
  {
   "cell_type": "markdown",
   "metadata": {},
   "source": [
    "Interesting, adding more augmentaton by lowering that threshold reduces overall denoising but improves retention of texture, see how this compares to simply adding back noise to the un-augmented cnn"
   ]
  },
  {
   "cell_type": "markdown",
   "metadata": {},
   "source": [
    "So far it seems like if I add too much low frequency noise, it destroy  the training and leavee our high frequenices, so I nee to balance the weighting about how many of the traingin images have augmentation while having enough noise reduction\n",
    "\n",
    "There's a balance between *how much* denoiosing and what frequencies to remove, so it seems like there's 2 parameters to balance\n",
    "\n",
    "Seems like higher frequency (lower threshold) --> more augmentation and thus lower overall noise reduction, but with better texture"
   ]
  },
  {
   "cell_type": "code",
   "execution_count": null,
   "metadata": {},
   "outputs": [],
   "source": [
    "print(\"Evaluate\")\n",
    "result = base_denoising_model.evaluate(test_dataset)\n",
    "dict(zip(base_denoising_model.metrics_names, result))"
   ]
  },
  {
   "cell_type": "code",
   "execution_count": null,
   "metadata": {},
   "outputs": [],
   "source": [
    "result = aug_denoising_model.evaluate(test_dataset)\n",
    "dict(zip(aug_denoising_model.metrics_names, result))"
   ]
  },
  {
   "cell_type": "markdown",
   "metadata": {},
   "source": [
    "## Now Data Augmentation as a Fine Tuning Step\n",
    "\n",
    "Take the pretrained `Simple CNN MSE` then apply the data augmentation. In theory it already knows how to denoise. Will fine tuning be destructive or improve generalizability to more textures?"
   ]
  },
  {
   "cell_type": "code",
   "execution_count": null,
   "metadata": {},
   "outputs": [],
   "source": [
    "aug_pretrained_model, aug_pretrained_progress_ims, aug_pretrained_progress_val = train(augment_training=0.7, model=base_denoising_model, epochs=100)"
   ]
  },
  {
   "cell_type": "code",
   "execution_count": null,
   "metadata": {},
   "outputs": [],
   "source": [
    "check_progress_ims(aug_pretrained_progress_ims)"
   ]
  },
  {
   "cell_type": "code",
   "execution_count": null,
   "metadata": {},
   "outputs": [],
   "source": [
    "plt.plot(np.array(aug_pretrained_progress_val)[:,0])"
   ]
  },
  {
   "cell_type": "code",
   "execution_count": null,
   "metadata": {},
   "outputs": [],
   "source": [
    "aug_pretrainedout = aug_pretrained_model.predict(test_input, batch_size=1)\n",
    "plt.figure(figsize=(16, 8))\n",
    "\n",
    "plt.subplot(2, 2, 1)\n",
    "plt.title('aug CNN Denoised, MSE', fontsize=16)\n",
    "ctshow(aug_CNNout[3, 110:-110, 50:-50, 0])\n",
    "\n",
    "plt.subplot(2, 2, 2)\n",
    "plt.title('Hi Dose Input', fontsize=16)\n",
    "ctshow(test_target[3, 110:-110, 50:-50, 0])\n",
    "\n",
    "plt.subplot(2, 2, 3)\n",
    "plt.title('base CNN Denoised, MSE', fontsize=16)\n",
    "ctshow(base_CNNout[3, 110:-110, 50:-50, 0])\n",
    "\n",
    "plt.subplot(2, 2, 4)\n",
    "plt.title('aug pretrained Denoised, MSE', fontsize=16)\n",
    "ctshow(aug_pretrainedout[3, 110:-110, 50:-50, 0])"
   ]
  },
  {
   "cell_type": "code",
   "execution_count": null,
   "metadata": {},
   "outputs": [],
   "source": [
    "print(\"Evaluate\")\n",
    "result = base_denoising_model.evaluate(test_dataset)\n",
    "dict(zip(base_denoising_model.metrics_names, result))"
   ]
  },
  {
   "cell_type": "code",
   "execution_count": null,
   "metadata": {},
   "outputs": [],
   "source": [
    "result = aug_denoising_model.evaluate(test_dataset)\n",
    "dict(zip(aug_denoising_model.metrics_names, result))"
   ]
  },
  {
   "cell_type": "code",
   "execution_count": null,
   "metadata": {},
   "outputs": [],
   "source": [
    "result = aug_pretrained_model.evaluate(test_dataset)\n",
    "dict(zip(aug_pretrained_model.metrics_names, result))"
   ]
  },
  {
   "cell_type": "markdown",
   "metadata": {},
   "source": [
    "## Need to find the right balance between training loss and validation loss other  "
   ]
  },
  {
   "cell_type": "markdown",
   "metadata": {},
   "source": [
    "Other quesions: how does what noises are iuncluded influence image quality and validation loss"
   ]
  },
  {
   "cell_type": "code",
   "execution_count": null,
   "metadata": {},
   "outputs": [],
   "source": []
  }
 ],
 "metadata": {
  "kernelspec": {
   "display_name": "Python 3 (ipykernel)",
   "language": "python",
   "name": "python3"
  },
  "language_info": {
   "codemirror_mode": {
    "name": "ipython",
    "version": 3
   },
   "file_extension": ".py",
   "mimetype": "text/x-python",
   "name": "python",
   "nbconvert_exporter": "python",
   "pygments_lexer": "ipython3",
   "version": "3.11.3"
  },
  "vscode": {
   "interpreter": {
    "hash": "a9e79111a78af38062a492510486836532f07f413f97beb37bf83fad26e0552c"
   }
  }
 },
 "nbformat": 4,
 "nbformat_minor": 4
}
