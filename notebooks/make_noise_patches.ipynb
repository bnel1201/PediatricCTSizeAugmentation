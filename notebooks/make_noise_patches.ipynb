{
 "cells": [
  {
   "cell_type": "code",
   "execution_count": 2,
   "metadata": {},
   "outputs": [],
   "source": [
    "# The purpose of this notebook is to make noise patches from different sized FOVS and measure their changing NPS"
   ]
  },
  {
   "cell_type": "code",
   "execution_count": null,
   "metadata": {},
   "outputs": [],
   "source": [
    "from pathlib import Path\n",
    "import numpy as np\n",
    "import seaborn as sns\n",
    "\n",
    "import sys\n",
    "sys.path.append('..')\n",
    "\n",
    "sns.set_theme()\n",
    "sns.set_style('white')\n",
    "\n",
    "from nps_utils import compute_nps, radial_profile\n"
   ]
  },
  {
   "cell_type": "code",
   "execution_count": null,
   "metadata": {},
   "outputs": [],
   "source": [
    "from make_noise_patches import prep_patches\n",
    "\n",
    "\n",
    "datadir = Path('/gpfs_projects/brandon.nelson/PediatricCTSizeDataAugmentation/CCT189_peds/CCT189_peds_fbp/')\n",
    "noise_patch_dict = prep_patches(datadir)"
   ]
  },
  {
   "cell_type": "code",
   "execution_count": null,
   "metadata": {},
   "outputs": [],
   "source": [
    "dose=100\n",
    "from make_noise_patches import load_mhd\n",
    "sa_file_dict={d.stem : next(d.rglob(f'dose_{dose:03d}/*/signal_absent.mhd')) for d in datadir.glob('diameter*mm')}"
   ]
  },
  {
   "cell_type": "code",
   "execution_count": null,
   "metadata": {},
   "outputs": [],
   "source": [
    "sa = load_mhd(sa_file_dict['diameter292mm'])\n",
    "sa.shape\n",
    "\n",
    "sa_image_dict = {k: load_mhd(v)-1000 for k, v in sa_file_dict.items()}"
   ]
  },
  {
   "cell_type": "code",
   "execution_count": null,
   "metadata": {},
   "outputs": [],
   "source": [
    "import matplotlib.pyplot as plt\n",
    "diams = [112, 151, 292]\n",
    "plt.subplots(1,1, dpi=300)\n",
    "plt.imshow(np.concatenate([sa_image_dict[f'diameter{x}mm'][0] for x in diams], axis=1),cmap='gray', vmin=-20, vmax=80)\n",
    "plt.title(f'{diams} mm')"
   ]
  },
  {
   "cell_type": "code",
   "execution_count": null,
   "metadata": {},
   "outputs": [],
   "source": [
    "import numpy as np\n",
    "\n",
    "from make_noise_patches import make_noise_images\n",
    "\n",
    "\n",
    "make_noise_images(sa_image_dict['diameter112mm']).shape"
   ]
  },
  {
   "cell_type": "code",
   "execution_count": null,
   "metadata": {},
   "outputs": [],
   "source": [
    "noise_image_dict = {k: make_noise_images(v, 2000) for k, v in sa_image_dict.items()}"
   ]
  },
  {
   "cell_type": "code",
   "execution_count": null,
   "metadata": {},
   "outputs": [],
   "source": [
    "diams = [112, 151, 292]\n",
    "plt.imshow(np.concatenate([noise_image_dict[f'diameter{x}mm'][0] for x in diams], axis=1), cmap='gray')\n",
    "plt.title(f'{diams} mm whole noise images')"
   ]
  },
  {
   "cell_type": "code",
   "execution_count": null,
   "metadata": {},
   "outputs": [],
   "source": [
    "diams = [112, 151, 292, 350]\n",
    "nps_images = [compute_nps(noise_image_dict[f'diameter{x}mm']) for x in diams]"
   ]
  },
  {
   "cell_type": "code",
   "execution_count": null,
   "metadata": {},
   "outputs": [],
   "source": [
    "plt.subplots(1,1, dpi=300)\n",
    "plt.imshow(np.concatenate(nps_images, axis=1), cmap='gray')\n",
    "plt.title(f'{diams} mm whole noise image nps')"
   ]
  },
  {
   "cell_type": "markdown",
   "metadata": {},
   "source": [
    " noise texture changes radially and azimuthally"
   ]
  },
  {
   "cell_type": "code",
   "execution_count": 4,
   "metadata": {},
   "outputs": [
    {
     "ename": "NameError",
     "evalue": "name 'np' is not defined",
     "output_type": "error",
     "traceback": [
      "\u001b[0;31m---------------------------------------------------------------------------\u001b[0m",
      "\u001b[0;31mNameError\u001b[0m                                 Traceback (most recent call last)",
      "Cell \u001b[0;32mIn[4], line 6\u001b[0m\n\u001b[1;32m      2\u001b[0m data_dir \u001b[38;5;241m=\u001b[39m Path(\u001b[38;5;124m'\u001b[39m\u001b[38;5;124m../data/\u001b[39m\u001b[38;5;124m'\u001b[39m)\n\u001b[1;32m      4\u001b[0m \u001b[38;5;66;03m# load training data, used to update CNN weights\u001b[39;00m\n\u001b[1;32m      5\u001b[0m \u001b[38;5;66;03m# 2000 30x30 image patches from 8 patients\u001b[39;00m\n\u001b[0;32m----> 6\u001b[0m train_input \u001b[38;5;241m=\u001b[39m \u001b[43mnp\u001b[49m\u001b[38;5;241m.\u001b[39mload(data_dir\u001b[38;5;241m/\u001b[39m\u001b[38;5;124m'\u001b[39m\u001b[38;5;124mDenoising_Data/train_input.npy\u001b[39m\u001b[38;5;124m'\u001b[39m)\n\u001b[1;32m      7\u001b[0m train_target \u001b[38;5;241m=\u001b[39m np\u001b[38;5;241m.\u001b[39mload(data_dir\u001b[38;5;241m/\u001b[39m\u001b[38;5;124m'\u001b[39m\u001b[38;5;124mDenoising_Data/train_target.npy\u001b[39m\u001b[38;5;124m'\u001b[39m)\n\u001b[1;32m      8\u001b[0m \u001b[38;5;66;03m# load validation data, used to monitor for overfitting\u001b[39;00m\n\u001b[1;32m      9\u001b[0m \u001b[38;5;66;03m# 1000 30x30 image patches from 1 patient\u001b[39;00m\n",
      "\u001b[0;31mNameError\u001b[0m: name 'np' is not defined"
     ]
    }
   ],
   "source": [
    "from pathlib import Path\n",
    "data_dir = Path('../data/')\n",
    "\n",
    "# load training data, used to update CNN weights\n",
    "# 2000 30x30 image patches from 8 patients\n",
    "train_input = np.load(data_dir/'Denoising_Data/train_input.npy')\n",
    "train_target = np.load(data_dir/'Denoising_Data/train_target.npy')\n",
    "# load validation data, used to monitor for overfitting\n",
    "# 1000 30x30 image patches from 1 patient\n",
    "val_input = np.load(data_dir/'Denoising_Data/val_input.npy')\n",
    "val_target = np.load(data_dir/'Denoising_Data/val_target.npy')\n",
    "\n",
    "# load testing data, used for evaluating performance\n",
    "# 5 512x512 images from 1 patient\n",
    "test_input = np.load(data_dir/'Denoising_Data/test_input.npy')\n",
    "test_target = np.load(data_dir/'Denoising_Data/test_target.npy')\n",
    "\n",
    "# Load examples images from state-of-the-art CNN denoising for CT images\n",
    "test_example = np.load(data_dir/'Denoising_Data/test_input_denoised.npy')\n",
    "\n",
    "print('Data loading completed.')"
   ]
  },
  {
   "cell_type": "code",
   "execution_count": 12,
   "metadata": {},
   "outputs": [
    {
     "name": "stdout",
     "output_type": "stream",
     "text": [
      "8\n"
     ]
    },
    {
     "ename": "",
     "evalue": "",
     "output_type": "error",
     "traceback": [
      "\u001b[1;31mCanceled future for execute_request message before replies were done"
     ]
    },
    {
     "ename": "",
     "evalue": "",
     "output_type": "error",
     "traceback": [
      "\u001b[1;31mThe Kernel crashed while executing code in the the current cell or a previous cell. Please review the code in the cell(s) to identify a possible cause of the failure. Click <a href='https://aka.ms/vscodeJupyterKernelCrash'>here</a> for more info. View Jupyter <a href='command:jupyter.viewOutput'>log</a> for further details."
     ]
    }
   ],
   "source": [
    "from make_noise_patches import make_noise_image_dict\n",
    "\n",
    "def get_square_patch(img, center, patch_width=30):\n",
    "    if img.ndim == 2: img = img[None, :, :]\n",
    "    return img[:, center[0]-patch_width//2:center[0]+patch_width//2, center[1]-patch_width//2:center[1]+patch_width//2]\n",
    "\n",
    "def get_patches(img, centers, patch_size=30):\n",
    "    return {center: get_square_patch(img, center, patch_width=patch_size) for center in centers}\n",
    "\n",
    "\n",
    "centers = [(256, 256), (50, 256), (110, 110)]\n",
    "noise_image_dict = make_noise_image_dict(datadir)\n",
    "corner_patches = [get_patches(noise_image_dict[f'diameter{x}mm'], centers=centers) for x in diams]\n",
    "\n",
    "corners= list(corner_patches[0].keys())\n",
    "f, axs = plt.subplots(1,1, dpi=300, figsize=(3,2.25))\n",
    "region_patches = np.concatenate([np.concatenate([p[c][0] for p in corner_patches], axis=1) for c in corners])\n",
    "axs.imshow(region_patches, cmap='gray')\n",
    "axs.set_title('patch images')\n",
    "axs.set_xlabel(f'{diams} mm')\n",
    "axs.set_ylabel(f'[upper left, top, center]')\n",
    "axs.set_xticks([])\n",
    "axs.set_yticks([])\n",
    "\n"
   ]
  },
  {
   "cell_type": "code",
   "execution_count": null,
   "metadata": {},
   "outputs": [],
   "source": [
    "f, axs = plt.subplots(1,1, dpi=300, figsize=(3,2.25))\n",
    "axs.imshow(np.concatenate([np.concatenate([compute_nps(p[c]) for p in corner_patches], axis=1) for c in corners]))\n",
    "axs.set_title('patch NPS')\n",
    "axs.set_xlabel(f'{diams} mm')\n",
    "axs.set_ylabel(f'[upper left, top, center]')\n",
    "axs.set_xticks([])\n",
    "axs.set_yticks([])"
   ]
  },
  {
   "cell_type": "code",
   "execution_count": null,
   "metadata": {},
   "outputs": [],
   "source": [
    "normalize = lambda x: x/x.sum()\n",
    "patch_nps = [normalize(compute_nps(noise_patch_dict[f'diameter{x}mm'])) for x in diams]"
   ]
  },
  {
   "cell_type": "code",
   "execution_count": null,
   "metadata": {},
   "outputs": [],
   "source": [
    "plt.subplots(1,1, dpi=300)\n",
    "plt.imshow(np.concatenate(patch_nps, axis=1))\n",
    "plt.title(f'{diams} mm averaged patch nps')"
   ]
  },
  {
   "cell_type": "markdown",
   "metadata": {},
   "source": [
    " how do these generated noise patches compare to the training dataset noise patches?"
   ]
  },
  {
   "cell_type": "code",
   "execution_count": null,
   "metadata": {},
   "outputs": [],
   "source": [
    "plt.subplots(1,1, dpi=300)\n",
    "plt.imshow(np.concatenate([*patch_nps, normalize(train_nps)], axis=1))\n",
    "for idx, d in enumerate([*diams, 'training']):\n",
    "    plt.annotate(f'{d}', (10 + idx*30, 5))\n",
    "plt.axis('off')"
   ]
  },
  {
   "cell_type": "code",
   "execution_count": null,
   "metadata": {},
   "outputs": [],
   "source": [
    "f, axs = plt.subplots(figsize=(4.5, 4), dpi=150)\n",
    "for nps, diam in zip([normalize(train_nps), *patch_nps], ['training', *diams]):\n",
    "    axs.plot(radial_profile(nps), label=diam)\n",
    "plt.xlabel('Spatial Frequency [1/px]')\n",
    "plt.ylabel('Unnormalized NPS')\n",
    "plt.legend(title='diameters [mm]')\n",
    "plt.title('Generated Noise NPS vs. Training Patch NPS')"
   ]
  },
  {
   "cell_type": "markdown",
   "metadata": {},
   "source": [
    " now save the noise patches"
   ]
  },
  {
   "cell_type": "code",
   "execution_count": null,
   "metadata": {},
   "outputs": [],
   "source": []
  }
 ],
 "metadata": {
  "kernelspec": {
   "display_name": "Python 3.11.4 ('peds_aug')",
   "language": "python",
   "name": "python3"
  },
  "language_info": {
   "codemirror_mode": {
    "name": "ipython",
    "version": 3
   },
   "file_extension": ".py",
   "mimetype": "text/x-python",
   "name": "python",
   "nbconvert_exporter": "python",
   "pygments_lexer": "ipython3",
   "version": "3.11.4"
  },
  "orig_nbformat": 4,
  "vscode": {
   "interpreter": {
    "hash": "a9e79111a78af38062a492510486836532f07f413f97beb37bf83fad26e0552c"
   }
  }
 },
 "nbformat": 4,
 "nbformat_minor": 2
}
