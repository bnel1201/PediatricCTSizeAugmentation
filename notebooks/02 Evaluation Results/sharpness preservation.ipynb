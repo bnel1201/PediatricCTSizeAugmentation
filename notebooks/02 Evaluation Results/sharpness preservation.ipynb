{
 "cells": [
  {
   "cell_type": "markdown",
   "id": "4af66f6e-7eca-46c9-b957-83e327d80da2",
   "metadata": {},
   "source": [
    "# Evaluating Sharpness Preservation"
   ]
  },
  {
   "cell_type": "code",
   "execution_count": null,
   "id": "2d8cf945-a30e-4b79-94fe-310d1ab50a3c",
   "metadata": {},
   "outputs": [],
   "source": []
  }
 ],
 "metadata": {
  "kernelspec": {
   "display_name": "Python 3 (ipykernel)",
   "language": "python",
   "name": "python3"
  },
  "language_info": {
   "codemirror_mode": {
    "name": "ipython",
    "version": 3
   },
   "file_extension": ".py",
   "mimetype": "text/x-python",
   "name": "python",
   "nbconvert_exporter": "python",
   "pygments_lexer": "ipython3",
   "version": "3.11.3"
  }
 },
 "nbformat": 4,
 "nbformat_minor": 5
}
