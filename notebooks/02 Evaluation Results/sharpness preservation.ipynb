{
 "cells": [
  {
   "cell_type": "markdown",
   "id": "4af66f6e-7eca-46c9-b957-83e327d80da2",
   "metadata": {},
   "source": [
    "# Evaluating Sharpness Preservation\n",
    "\n",
    "Get 10% and 50% MTFs for fbp, red-cnn, and red-cnn augmentation"
   ]
  },
  {
   "cell_type": "code",
   "execution_count": 1,
   "id": "2d8cf945-a30e-4b79-94fe-310d1ab50a3c",
   "metadata": {},
   "outputs": [],
   "source": [
    "from pathlib import Path\n",
    "import matplotlib.pyplot as plt\n",
    "import seaborn as sns\n",
    "import numpy as np\n",
    "import pandas as pd"
   ]
  },
  {
   "cell_type": "code",
   "execution_count": 2,
   "id": "4ce59578-4807-4116-bbc6-e43b229b274a",
   "metadata": {
    "tags": []
   },
   "outputs": [
    {
     "data": {
      "text/html": [
       "<div>\n",
       "<style scoped>\n",
       "    .dataframe tbody tr th:only-of-type {\n",
       "        vertical-align: middle;\n",
       "    }\n",
       "\n",
       "    .dataframe tbody tr th {\n",
       "        vertical-align: top;\n",
       "    }\n",
       "\n",
       "    .dataframe thead th {\n",
       "        text-align: right;\n",
       "    }\n",
       "</style>\n",
       "<table border=\"1\" class=\"dataframe\">\n",
       "  <thead>\n",
       "    <tr style=\"text-align: right;\">\n",
       "      <th></th>\n",
       "      <th>Name</th>\n",
       "      <th>effective diameter (cm)</th>\n",
       "      <th>FOV (cm)</th>\n",
       "      <th>recon</th>\n",
       "      <th>phantom</th>\n",
       "      <th>simulated</th>\n",
       "      <th>file</th>\n",
       "      <th>Dose [%]</th>\n",
       "    </tr>\n",
       "  </thead>\n",
       "  <tbody>\n",
       "    <tr>\n",
       "      <th>0</th>\n",
       "      <td>35.0 cm MITA-LCD</td>\n",
       "      <td>35.0</td>\n",
       "      <td>39</td>\n",
       "      <td>RED-CNN augmented</td>\n",
       "      <td>MITA-LCD</td>\n",
       "      <td>True</td>\n",
       "      <td>/gpfs_projects/brandon.nelson/PediatricCTSizeD...</td>\n",
       "      <td>10</td>\n",
       "    </tr>\n",
       "    <tr>\n",
       "      <th>1</th>\n",
       "      <td>35.0 cm MITA-LCD</td>\n",
       "      <td>35.0</td>\n",
       "      <td>39</td>\n",
       "      <td>RED-CNN</td>\n",
       "      <td>MITA-LCD</td>\n",
       "      <td>True</td>\n",
       "      <td>/gpfs_projects/brandon.nelson/PediatricCTSizeD...</td>\n",
       "      <td>10</td>\n",
       "    </tr>\n",
       "    <tr>\n",
       "      <th>2</th>\n",
       "      <td>35.0 cm MITA-LCD</td>\n",
       "      <td>35.0</td>\n",
       "      <td>39</td>\n",
       "      <td>fbp</td>\n",
       "      <td>MITA-LCD</td>\n",
       "      <td>True</td>\n",
       "      <td>/gpfs_projects/brandon.nelson/PediatricCTSizeD...</td>\n",
       "      <td>10</td>\n",
       "    </tr>\n",
       "    <tr>\n",
       "      <th>3</th>\n",
       "      <td>35.0 cm MITA-LCD</td>\n",
       "      <td>35.0</td>\n",
       "      <td>39</td>\n",
       "      <td>RED-CNN augmented</td>\n",
       "      <td>MITA-LCD</td>\n",
       "      <td>True</td>\n",
       "      <td>/gpfs_projects/brandon.nelson/PediatricCTSizeD...</td>\n",
       "      <td>40</td>\n",
       "    </tr>\n",
       "    <tr>\n",
       "      <th>4</th>\n",
       "      <td>35.0 cm MITA-LCD</td>\n",
       "      <td>35.0</td>\n",
       "      <td>39</td>\n",
       "      <td>RED-CNN</td>\n",
       "      <td>MITA-LCD</td>\n",
       "      <td>True</td>\n",
       "      <td>/gpfs_projects/brandon.nelson/PediatricCTSizeD...</td>\n",
       "      <td>40</td>\n",
       "    </tr>\n",
       "    <tr>\n",
       "      <th>...</th>\n",
       "      <td>...</td>\n",
       "      <td>...</td>\n",
       "      <td>...</td>\n",
       "      <td>...</td>\n",
       "      <td>...</td>\n",
       "      <td>...</td>\n",
       "      <td>...</td>\n",
       "      <td>...</td>\n",
       "    </tr>\n",
       "    <tr>\n",
       "      <th>373</th>\n",
       "      <td>15.1 cm uniform</td>\n",
       "      <td>15.1</td>\n",
       "      <td>17</td>\n",
       "      <td>RED-CNN</td>\n",
       "      <td>uniform</td>\n",
       "      <td>True</td>\n",
       "      <td>/gpfs_projects/brandon.nelson/PediatricCTSizeD...</td>\n",
       "      <td>70</td>\n",
       "    </tr>\n",
       "    <tr>\n",
       "      <th>374</th>\n",
       "      <td>15.1 cm uniform</td>\n",
       "      <td>15.1</td>\n",
       "      <td>17</td>\n",
       "      <td>fbp</td>\n",
       "      <td>uniform</td>\n",
       "      <td>True</td>\n",
       "      <td>/gpfs_projects/brandon.nelson/PediatricCTSizeD...</td>\n",
       "      <td>70</td>\n",
       "    </tr>\n",
       "    <tr>\n",
       "      <th>375</th>\n",
       "      <td>15.1 cm uniform</td>\n",
       "      <td>15.1</td>\n",
       "      <td>17</td>\n",
       "      <td>RED-CNN augmented</td>\n",
       "      <td>uniform</td>\n",
       "      <td>True</td>\n",
       "      <td>/gpfs_projects/brandon.nelson/PediatricCTSizeD...</td>\n",
       "      <td>85</td>\n",
       "    </tr>\n",
       "    <tr>\n",
       "      <th>376</th>\n",
       "      <td>15.1 cm uniform</td>\n",
       "      <td>15.1</td>\n",
       "      <td>17</td>\n",
       "      <td>RED-CNN</td>\n",
       "      <td>uniform</td>\n",
       "      <td>True</td>\n",
       "      <td>/gpfs_projects/brandon.nelson/PediatricCTSizeD...</td>\n",
       "      <td>85</td>\n",
       "    </tr>\n",
       "    <tr>\n",
       "      <th>377</th>\n",
       "      <td>15.1 cm uniform</td>\n",
       "      <td>15.1</td>\n",
       "      <td>17</td>\n",
       "      <td>fbp</td>\n",
       "      <td>uniform</td>\n",
       "      <td>True</td>\n",
       "      <td>/gpfs_projects/brandon.nelson/PediatricCTSizeD...</td>\n",
       "      <td>85</td>\n",
       "    </tr>\n",
       "  </tbody>\n",
       "</table>\n",
       "<p>378 rows × 8 columns</p>\n",
       "</div>"
      ],
      "text/plain": [
       "                 Name  effective diameter (cm)  FOV (cm)              recon  \\\n",
       "0    35.0 cm MITA-LCD                     35.0        39  RED-CNN augmented   \n",
       "1    35.0 cm MITA-LCD                     35.0        39            RED-CNN   \n",
       "2    35.0 cm MITA-LCD                     35.0        39                fbp   \n",
       "3    35.0 cm MITA-LCD                     35.0        39  RED-CNN augmented   \n",
       "4    35.0 cm MITA-LCD                     35.0        39            RED-CNN   \n",
       "..                ...                      ...       ...                ...   \n",
       "373   15.1 cm uniform                     15.1        17            RED-CNN   \n",
       "374   15.1 cm uniform                     15.1        17                fbp   \n",
       "375   15.1 cm uniform                     15.1        17  RED-CNN augmented   \n",
       "376   15.1 cm uniform                     15.1        17            RED-CNN   \n",
       "377   15.1 cm uniform                     15.1        17                fbp   \n",
       "\n",
       "      phantom  simulated                                               file  \\\n",
       "0    MITA-LCD       True  /gpfs_projects/brandon.nelson/PediatricCTSizeD...   \n",
       "1    MITA-LCD       True  /gpfs_projects/brandon.nelson/PediatricCTSizeD...   \n",
       "2    MITA-LCD       True  /gpfs_projects/brandon.nelson/PediatricCTSizeD...   \n",
       "3    MITA-LCD       True  /gpfs_projects/brandon.nelson/PediatricCTSizeD...   \n",
       "4    MITA-LCD       True  /gpfs_projects/brandon.nelson/PediatricCTSizeD...   \n",
       "..        ...        ...                                                ...   \n",
       "373   uniform       True  /gpfs_projects/brandon.nelson/PediatricCTSizeD...   \n",
       "374   uniform       True  /gpfs_projects/brandon.nelson/PediatricCTSizeD...   \n",
       "375   uniform       True  /gpfs_projects/brandon.nelson/PediatricCTSizeD...   \n",
       "376   uniform       True  /gpfs_projects/brandon.nelson/PediatricCTSizeD...   \n",
       "377   uniform       True  /gpfs_projects/brandon.nelson/PediatricCTSizeD...   \n",
       "\n",
       "     Dose [%]  \n",
       "0          10  \n",
       "1          10  \n",
       "2          10  \n",
       "3          40  \n",
       "4          40  \n",
       "..        ...  \n",
       "373        70  \n",
       "374        70  \n",
       "375        85  \n",
       "376        85  \n",
       "377        85  \n",
       "\n",
       "[378 rows x 8 columns]"
      ]
     },
     "execution_count": 2,
     "metadata": {},
     "output_type": "execute_result"
    }
   ],
   "source": [
    "base_dir = Path('/gpfs_projects/brandon.nelson/PediatricCTSizeDataAugmentation')\n",
    "phantom_dir = base_dir / 'CCT189_peds'\n",
    "phantom_meta = pd.read_csv(phantom_dir / 'metadata.csv')\n",
    "phantom_meta"
   ]
  },
  {
   "cell_type": "code",
   "execution_count": 3,
   "id": "7dd4e4a4-3095-4f5c-8f19-3a53e5b15856",
   "metadata": {
    "tags": []
   },
   "outputs": [
    {
     "data": {
      "text/plain": [
       "'/gpfs_projects/brandon.nelson/PediatricCTSizeDataAugmentation/CCT189_peds/diameter350mm/signal_present/dose_010/RED-CNN augmented/signal_present.mhd'"
      ]
     },
     "execution_count": 3,
     "metadata": {},
     "output_type": "execute_result"
    }
   ],
   "source": [
    "phantom_meta.file[0]"
   ]
  },
  {
   "cell_type": "markdown",
   "id": "4708d7dd-2234-40b6-8748-c072ef2ea137",
   "metadata": {},
   "source": [
    "Desired directory structure\n",
    "\n",
    "```directory\n",
    "phantom /\n",
    "        / diameter /\n",
    "                   / dose /\n",
    "                          / recon\n",
    "```"
   ]
  },
  {
   "cell_type": "markdown",
   "id": "ca1fe44a-b59f-4911-a22e-d0c4b7d0349e",
   "metadata": {},
   "source": [
    "1. move the CTP404 phantom simulations from `/gpfs_projects/brandon.nelson/DLIR_Ped_Generalizability/geometric_phantom_studies/main/geometric/CTP404` to `/gpfs_projects/brandon.nelson/PediatricCTSizeDataAugmentation/CTP404_peds` - done\n",
    "2. add metaheaders to make them easier to load, with pixel size and recon info? -> dicom eventually for this last one - done\n",
    "3. make metadata csv like for CCT189 - done \n",
    "4. make sure Ct numbers have 0 offset, so air == -1000, water == 0 - done\n",
    "5. then run /home/brandon.nelson/Dev/DLIR_Ped_Generalizability/geometric_phantom_studies/evaluation/MTF"
   ]
  },
  {
   "cell_type": "code",
   "execution_count": 4,
   "id": "cb1ca3d5-f324-4c00-bca7-e5411159468d",
   "metadata": {
    "tags": []
   },
   "outputs": [],
   "source": [
    "src_dir = Path('/gpfs_projects/brandon.nelson/DLIR_Ped_Generalizability/geometric_phantom_studies/main/geometric/CTP404')\n",
    "dst_dir = Path('/gpfs_projects/brandon.nelson/PediatricCTSizeDataAugmentation/CTP404_peds')"
   ]
  },
  {
   "cell_type": "code",
   "execution_count": 5,
   "id": "e248417e-1da4-4f3e-8af0-f12ec45ec129",
   "metadata": {
    "tags": []
   },
   "outputs": [
    {
     "name": "stdout",
     "output_type": "stream",
     "text": [
      "112mm_dose_010_fbp.mhd\t112mm_dose_010_fbp.raw\n"
     ]
    }
   ],
   "source": [
    "!ls /gpfs_projects/brandon.nelson/PediatricCTSizeDataAugmentation/CTP404_peds/diameter112mm/dose_010/fbp/"
   ]
  },
  {
   "cell_type": "code",
   "execution_count": 6,
   "id": "7f59e44d-1a8a-4953-892e-798bcb447fe6",
   "metadata": {},
   "outputs": [],
   "source": [
    "# !rm -rf /gpfs_projects/brandon.nelson/DLIR_Ped_Generalizability/geometric_phantom_studies/main/geometric/CTP404"
   ]
  },
  {
   "cell_type": "markdown",
   "id": "2186e712-924c-4517-aa43-cd788da078b0",
   "metadata": {
    "tags": []
   },
   "source": [
    "from shutil import copyfile\n",
    "from tqdm import tqdm\n",
    "\n",
    "raw_files = list(src_dir.rglob('*.raw'))\n",
    "\n",
    "max_dose = 300000\n",
    "\n",
    "write = True\n",
    "\n",
    "name = []\n",
    "diameters = []\n",
    "fovs = []\n",
    "doses = []\n",
    "recons = []\n",
    "files = []\n",
    "phantom = 'CTP404'\n",
    "kernel = 'D45'\n",
    "\n",
    "for file in tqdm(raw_files):\n",
    "    if file.stem == 'true':\n",
    "        _, diameter, fname = file.relative_to(src_dir).parts\n",
    "        outfile = dst_dir / diameter / fname\n",
    "        outfile = Path(str(outfile).replace('.raw', '.mhd'))\n",
    "\n",
    "        geom = pd.read_csv(file.parent /'geometry_info.csv', index_col=0).T\n",
    "        info = pd.read_csv(file.parent /'image_info.csv', index_col=0).T\n",
    "        offset = int(info.index[0])\n",
    "        nx = int(geom['ny'].item())\n",
    "        array = np.fromfile(file, dtype='int16').reshape((nx, nx)) - offset\n",
    "        img = sitk.GetImageFromArray(array)\n",
    "        img.SetSpacing(2*[float(geom['dx'].item())])\n",
    "        if write:\n",
    "            outfile.parent.mkdir(exist_ok=True, parents=True)\n",
    "            sitk.WriteImage(img, outfile)\n",
    "\n",
    "    else:\n",
    "        _, diameter, dose, recon, fname = file.relative_to(src_dir).parts\n",
    "\n",
    "        if dose.endswith('processed'):\n",
    "            continue\n",
    "\n",
    "        recon = recon.removesuffix('_sharp')\n",
    "        dose = f\"dose_{round(int(dose.split('_')[1])/max_dose*100):03d}\"\n",
    "        outfile = dst_dir / diameter / dose / recon / f\"{diameter.removeprefix('diameter')}_{dose}_{recon}_{int(fname.split('v')[1].split('.raw')[0]):03d}.mhd\"\n",
    "\n",
    "        geom = pd.read_csv(file.parents[2] /'geometry_info.csv', index_col=0).T\n",
    "        info = pd.read_csv(file.parents[2] /'image_info.csv', index_col=0).T\n",
    "        offset = int(info.index[0])\n",
    "        nx = int(geom['ny'].item())\n",
    "        array = np.fromfile(file, dtype='int16').reshape((nx, nx)) - offset\n",
    "        img = sitk.GetImageFromArray(array)\n",
    "        img.SetSpacing(2*[float(geom['dx'].item())])\n",
    "        if write:\n",
    "            outfile.parent.mkdir(exist_ok=True, parents=True)\n",
    "            sitk.WriteImage(img, outfile)\n",
    "        \n",
    "\n",
    "        name.append(f\"{float(diameter.split('diameter')[1].split('mm')[0])/10} cm {phantom}\")\n",
    "        diameters.append(float(diameter.split('diameter')[1].split('mm')[0])/10)\n",
    "        fovs.append(round(img.GetSpacing()[0]*nx)/10)\n",
    "        doses.append(int(dose.split('_')[1]))\n",
    "        recons.append(recon)\n",
    "        files.append(outfile.relative_to(dst_dir))\n",
    "\n",
    "pd.DataFrame({\n",
    "    'name': name,\n",
    "    'phantom': len(files)*[phantom],\n",
    "    'effective diameter [cm]': diameters,\n",
    "    'FOV [cm]': fovs,\n",
    "    'Dose [%]': doses,\n",
    "    'recon': recons,\n",
    "    'kernel': len(files)*[kernel],\n",
    "    'file': files}).to_csv(dst_dir/'metadata.csv',index=False)"
   ]
  },
  {
   "cell_type": "code",
   "execution_count": 7,
   "id": "5dcd12ee-a403-4fec-a57f-75c7216f3e7b",
   "metadata": {
    "tags": []
   },
   "outputs": [
    {
     "name": "stdout",
     "output_type": "stream",
     "text": [
      "350mm_dose_040_fbp.mhd\t350mm_dose_040_fbp.raw\n"
     ]
    }
   ],
   "source": [
    "!ls /gpfs_projects/brandon.nelson/PediatricCTSizeDataAugmentation/CTP404_peds/diameter350mm/dose_040/fbp"
   ]
  },
  {
   "cell_type": "code",
   "execution_count": 9,
   "id": "650f1b98-0505-4a66-b5fb-1c5f713726c1",
   "metadata": {
    "tags": []
   },
   "outputs": [
    {
     "data": {
      "text/plain": [
       "(20, 512, 512)"
      ]
     },
     "execution_count": 9,
     "metadata": {},
     "output_type": "execute_result"
    }
   ],
   "source": [
    "import SimpleITK as sitk\n",
    "vol = sitk.ReadImage('/gpfs_projects/brandon.nelson/PediatricCTSizeDataAugmentation/CTP404_peds/diameter112mm/dose_010/fbp/112mm_dose_010_fbp.mhd')\n",
    "vol.GetDepth(), vol.GetWidth(), vol.GetHeight()"
   ]
  },
  {
   "cell_type": "code",
   "execution_count": 10,
   "id": "03d1eef8-f7a4-4c71-9ad5-9bb19718adae",
   "metadata": {
    "tags": []
   },
   "outputs": [
    {
     "data": {
      "text/plain": [
       "'/gpfs_projects/brandon.nelson/PediatricCTSizeDataAugmentation/CTP404_peds/diameter350mm/dose_025/fbp/350mm_dose_025_fbp.mhd'"
      ]
     },
     "execution_count": 10,
     "metadata": {},
     "output_type": "execute_result"
    }
   ],
   "source": [
    "meta = pd.read_csv(dst_dir/'metadata.csv')\n",
    "meta.file[0]"
   ]
  },
  {
   "cell_type": "markdown",
   "id": "9cf67809-10f0-40b5-988b-2e41a56284d4",
   "metadata": {},
   "source": [
    "Like before load up all the files, sort into volumes and resave into one mhd and update metafile"
   ]
  },
  {
   "cell_type": "markdown",
   "id": "3e53b13f-1f39-4e08-adb6-12a90b335e46",
   "metadata": {
    "tags": []
   },
   "source": [
    "from os import remove\n",
    "import SimpleITK as sitk\n",
    "\n",
    "name = []\n",
    "diameters = []\n",
    "fovs = []\n",
    "doses = []\n",
    "recons = []\n",
    "files = []\n",
    "phantom = 'CTP404'\n",
    "kernel = 'D45'\n",
    "\n",
    "for diameter in meta['effective diameter [cm]'].unique():\n",
    "    temp = meta[(meta['effective diameter [cm]'] == diameter)].copy()\n",
    "    for dose in temp['Dose [%]'].unique():\n",
    "        vol = []\n",
    "        for file in temp[temp['Dose [%]']==dose].file:\n",
    "            file = Path(file)\n",
    "            for tempfile in file.parent.glob('*'):\n",
    "                if len(tempfile.stem.split('_')) == 4:\n",
    "                    print(tempfile, ' keep')\n",
    "                else:\n",
    "                    print(tempfile, ' delete')\n",
    "                    remove(tempfile)\n",
    "    #         break\n",
    "    #     break\n",
    "    # break\n",
    "    \n",
    "                # file = Path(file)\n",
    "                # tempfile = file.parent / (file.stem + f'_fbp_{i+1:03d}.mhd')\n",
    "            # # if not file.exists(): continue\n",
    "            #     img = sitk.ReadImage(tempfile)\n",
    "            #     vol.append(sitk.GetArrayFromImage(img))\n",
    "            # file = tempfile\n",
    "        # if not vol: continue\n",
    "        # vol = np.stack(vol)\n",
    "        # vol = sitk.GetImageFromArray(vol)\n",
    "        # vol.SetSpacing(vol.GetDimension()*[img.GetSpacing()[0]])\n",
    "        # outfile = file.parent / ('_'.join(file.stem.split('_')[:-1])+file.suffix)\n",
    "        # break\n",
    "        # remove(str(file))\n",
    "        # remove(str(file).replace('.mhd', '.raw'))\n",
    "        # name.append(temp[temp['Dose [%]']==dose]['name'].iloc[0])\n",
    "        # diameters.append(diameter)\n",
    "        # fovs.append(temp[temp['Dose [%]']==dose].iloc[0]['FOV [cm]'])\n",
    "        # doses.append(dose)\n",
    "        # recons.append(temp[temp['Dose [%]']==dose].iloc[0]['recon'])\n",
    "        # files.append(outfile)\n",
    "        # sitk.WriteImage(vol, outfile)\n",
    "        # print(outfile)\n",
    "\n",
    "# meta = pd.DataFrame({\n",
    "#     'name': name,\n",
    "#     'phantom': len(files)*[phantom],\n",
    "#     'effective diameter [cm]': diameters,\n",
    "#     'FOV [cm]': fovs,\n",
    "#     'Dose [%]': doses,\n",
    "#     'recon': recons,\n",
    "#     'kernel': len(files)*[kernel],\n",
    "#     'file': files})\n",
    "# meta.to_csv(dst_dir/'metadata.csv',index=False)"
   ]
  },
  {
   "cell_type": "code",
   "execution_count": 11,
   "id": "49d1a186-2872-42a7-a50d-92413ed9d95b",
   "metadata": {
    "tags": []
   },
   "outputs": [
    {
     "data": {
      "image/png": "[encoded data removed]",
      "text/plain": [
       "<Figure size 640x480 with 1 Axes>"
      ]
     },
     "metadata": {},
     "output_type": "display_data"
    }
   ],
   "source": [
    "from results_utils import browse_studies, study_viewer\n",
    "browse_studies(meta, phantom='CTP404', diameter=35, fov=38.5, dose=25, recon='fbp')"
   ]
  },
  {
   "cell_type": "code",
   "execution_count": 12,
   "id": "bef0f8a8-83b8-4022-b2d5-e7116073599e",
   "metadata": {
    "tags": []
   },
   "outputs": [
    {
     "data": {
      "application/vnd.jupyter.widget-view+json": {
       "model_id": "c3b9b689bbfc48f6b27563cce8a18d12",
       "version_major": 2,
       "version_minor": 0
      },
      "text/plain": [
       "interactive(children=(Dropdown(description='phantom', options=('CTP404',), value='CTP404'), Dropdown(descripti…"
      ]
     },
     "metadata": {},
     "output_type": "display_data"
    }
   ],
   "source": [
    "study_viewer(meta)"
   ]
  },
  {
   "cell_type": "code",
   "execution_count": null,
   "id": "74273e76-abff-413e-b066-1640b1638d2d",
   "metadata": {},
   "outputs": [],
   "source": []
  }
 ],
 "metadata": {
  "kernelspec": {
   "display_name": "Python 3 (ipykernel)",
   "language": "python",
   "name": "python3"
  },
  "language_info": {
   "codemirror_mode": {
    "name": "ipython",
    "version": 3
   },
   "file_extension": ".py",
   "mimetype": "text/x-python",
   "name": "python",
   "nbconvert_exporter": "python",
   "pygments_lexer": "ipython3",
   "version": "3.11.3"
  }
 },
 "nbformat": 4,
 "nbformat_minor": 5
}
